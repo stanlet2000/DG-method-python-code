{
  "nbformat": 4,
  "nbformat_minor": 0,
  "metadata": {
    "colab": {
      "provenance": [],
      "authorship_tag": "ABX9TyPbgUcygUasQ51ENrZ/Dfk4",
      "include_colab_link": true
    },
    "kernelspec": {
      "name": "python3",
      "display_name": "Python 3"
    },
    "language_info": {
      "name": "python"
    }
  },
  "cells": [
    {
      "cell_type": "markdown",
      "metadata": {
        "id": "view-in-github",
        "colab_type": "text"
      },
      "source": [
        "<a href=\"https://colab.research.google.com/github/stanlet2000/DG-method-python-code/blob/main/DG_method_HW0.ipynb\" target=\"_parent\"><img src=\"https://colab.research.google.com/assets/colab-badge.svg\" alt=\"Open In Colab\"/></a>"
      ]
    },
    {
      "cell_type": "code",
      "source": [
        "import scipy\n",
        "import numpy as np\n",
        "import numpy.polynomial.polynomial as poly\n",
        "import numpy.polynomial.legendre as legendre\n",
        "from scipy.integrate import fixed_quad"
      ],
      "metadata": {
        "id": "W4mn-etUHdqW"
      },
      "execution_count": 1,
      "outputs": []
    },
    {
      "cell_type": "code",
      "source": [
        "# parameter\n",
        "interval = [0., 2.]\n",
        "N = 16\n",
        "h = (interval[1] - interval[0]) / N\n",
        "k = 5\n",
        "t = [n*h for n in range(N+1)]\n",
        "# f = poly.Polynomial([1, 1, 1, 1, 1])\n",
        "f = np.exp"
      ],
      "metadata": {
        "id": "olcIXMIg4irM"
      },
      "execution_count": 25,
      "outputs": []
    },
    {
      "cell_type": "markdown",
      "source": [
        "# Construct basis function"
      ],
      "metadata": {
        "id": "JjP4yTwB4Tnz"
      }
    },
    {
      "cell_type": "markdown",
      "source": [
        "## legendre polynomial\n"
      ],
      "metadata": {
        "id": "5eFc4KzhLAoW"
      }
    },
    {
      "cell_type": "code",
      "source": [
        "P = []\n",
        "for i in range(k):\n",
        "  P.append(legendre.Legendre.basis(i).convert(kind=poly.Polynomial))\n",
        "print(P)"
      ],
      "metadata": {
        "colab": {
          "base_uri": "https://localhost:8080/"
        },
        "id": "GQx1qrcnHbFJ",
        "outputId": "9f132ff5-fae1-429e-acb8-04f40149163e"
      },
      "execution_count": 26,
      "outputs": [
        {
          "output_type": "stream",
          "name": "stdout",
          "text": [
            "[Polynomial([1.], domain=[-1.,  1.], window=[-1.,  1.], symbol='x'), Polynomial([0., 1.], domain=[-1.,  1.], window=[-1.,  1.], symbol='x'), Polynomial([-0.5,  0. ,  1.5], domain=[-1.,  1.], window=[-1.,  1.], symbol='x'), Polynomial([ 0. , -1.5,  0. ,  2.5], domain=[-1.,  1.], window=[-1.,  1.], symbol='x'), Polynomial([ 0.375,  0.   , -3.75 ,  0.   ,  4.375], domain=[-1.,  1.], window=[-1.,  1.], symbol='x')]\n"
          ]
        }
      ]
    },
    {
      "cell_type": "code",
      "source": [
        "print(P[2])"
      ],
      "metadata": {
        "colab": {
          "base_uri": "https://localhost:8080/"
        },
        "id": "z5jVTTGeGNxr",
        "outputId": "7376f9f8-3e5e-4525-a66d-5dbbb1689aa7"
      },
      "execution_count": 27,
      "outputs": [
        {
          "output_type": "stream",
          "name": "stdout",
          "text": [
            "-0.5 + 0.0·x + 1.5·x²\n"
          ]
        }
      ]
    },
    {
      "cell_type": "markdown",
      "source": [
        "## $$\\phi^n_j$$"
      ],
      "metadata": {
        "id": "WksQBURPLHLe"
      }
    },
    {
      "cell_type": "code",
      "execution_count": 28,
      "metadata": {
        "colab": {
          "base_uri": "https://localhost:8080/"
        },
        "id": "2fMC9wV34BuR",
        "outputId": "e52432bc-4cee-453a-e775-8fb2a634c679"
      },
      "outputs": [
        {
          "output_type": "stream",
          "name": "stdout",
          "text": [
            "[[Polynomial([1.], domain=[-1.,  1.], window=[-1.,  1.], symbol='x'), Polynomial([-1., 16.], domain=[-1.,  1.], window=[-1.,  1.], symbol='x'), Polynomial([  1., -48., 384.], domain=[-1.,  1.], window=[-1.,  1.], symbol='x'), Polynomial([-1.000e+00,  9.600e+01, -1.920e+03,  1.024e+04], domain=[-1.,  1.], window=[-1.,  1.], symbol='x'), Polynomial([ 1.0000e+00, -1.6000e+02,  5.7600e+03, -7.1680e+04,  2.8672e+05], domain=[-1.,  1.], window=[-1.,  1.], symbol='x')], [Polynomial([1.], domain=[-1.,  1.], window=[-1.,  1.], symbol='x'), Polynomial([-3., 16.], domain=[-1.,  1.], window=[-1.,  1.], symbol='x'), Polynomial([  13., -144.,  384.], domain=[-1.,  1.], window=[-1.,  1.], symbol='x'), Polynomial([  -63.,  1056., -5760., 10240.], domain=[-1.,  1.], window=[-1.,  1.], symbol='x'), Polynomial([    321.,   -7200.,   59520., -215040.,  286720.], domain=[-1.,  1.], window=[-1.,  1.], symbol='x')], [Polynomial([1.], domain=[-1.,  1.], window=[-1.,  1.], symbol='x'), Polynomial([-5., 16.], domain=[-1.,  1.], window=[-1.,  1.], symbol='x'), Polynomial([  37., -240.,  384.], domain=[-1.,  1.], window=[-1.,  1.], symbol='x'), Polynomial([ -305.,  2976., -9600., 10240.], domain=[-1.,  1.], window=[-1.,  1.], symbol='x'), Polynomial([   2641.,  -34400.,  167040., -358400.,  286720.], domain=[-1.,  1.], window=[-1.,  1.], symbol='x')], [Polynomial([1.], domain=[-1.,  1.], window=[-1.,  1.], symbol='x'), Polynomial([-7., 16.], domain=[-1.,  1.], window=[-1.,  1.], symbol='x'), Polynomial([  73., -336.,  384.], domain=[-1.,  1.], window=[-1.,  1.], symbol='x'), Polynomial([  -847.,   5856., -13440.,  10240.], domain=[-1.,  1.], window=[-1.,  1.], symbol='x'), Polynomial([  10321.,  -95200.,  328320., -501760.,  286720.], domain=[-1.,  1.], window=[-1.,  1.], symbol='x')], [Polynomial([1.], domain=[-1.,  1.], window=[-1.,  1.], symbol='x'), Polynomial([-9., 16.], domain=[-1.,  1.], window=[-1.,  1.], symbol='x'), Polynomial([ 121., -432.,  384.], domain=[-1.,  1.], window=[-1.,  1.], symbol='x'), Polynomial([ -1809.,   9696., -17280.,  10240.], domain=[-1.,  1.], window=[-1.,  1.], symbol='x'), Polynomial([  28401., -203040.,  543360., -645120.,  286720.], domain=[-1.,  1.], window=[-1.,  1.], symbol='x')], [Polynomial([1.], domain=[-1.,  1.], window=[-1.,  1.], symbol='x'), Polynomial([-11.,  16.], domain=[-1.,  1.], window=[-1.,  1.], symbol='x'), Polynomial([ 181., -528.,  384.], domain=[-1.,  1.], window=[-1.,  1.], symbol='x'), Polynomial([ -3311.,  14496., -21120.,  10240.], domain=[-1.,  1.], window=[-1.,  1.], symbol='x'), Polynomial([  63601., -371360.,  812160., -788480.,  286720.], domain=[-1.,  1.], window=[-1.,  1.], symbol='x')], [Polynomial([1.], domain=[-1.,  1.], window=[-1.,  1.], symbol='x'), Polynomial([-13.,  16.], domain=[-1.,  1.], window=[-1.,  1.], symbol='x'), Polynomial([ 253., -624.,  384.], domain=[-1.,  1.], window=[-1.,  1.], symbol='x'), Polynomial([ -5473.,  20256., -24960.,  10240.], domain=[-1.,  1.], window=[-1.,  1.], symbol='x'), Polynomial([ 124321., -613600., 1134720., -931840.,  286720.], domain=[-1.,  1.], window=[-1.,  1.], symbol='x')], [Polynomial([1.], domain=[-1.,  1.], window=[-1.,  1.], symbol='x'), Polynomial([-15.,  16.], domain=[-1.,  1.], window=[-1.,  1.], symbol='x'), Polynomial([ 337., -720.,  384.], domain=[-1.,  1.], window=[-1.,  1.], symbol='x'), Polynomial([ -8415.,  26976., -28800.,  10240.], domain=[-1.,  1.], window=[-1.,  1.], symbol='x'), Polynomial([  220641.,  -943200.,  1511040., -1075200.,   286720.], domain=[-1.,  1.], window=[-1.,  1.], symbol='x')], [Polynomial([1.], domain=[-1.,  1.], window=[-1.,  1.], symbol='x'), Polynomial([-17.,  16.], domain=[-1.,  1.], window=[-1.,  1.], symbol='x'), Polynomial([ 433., -816.,  384.], domain=[-1.,  1.], window=[-1.,  1.], symbol='x'), Polynomial([-12257.,  34656., -32640.,  10240.], domain=[-1.,  1.], window=[-1.,  1.], symbol='x'), Polynomial([  364321., -1373600.,  1941120., -1218560.,   286720.], domain=[-1.,  1.], window=[-1.,  1.], symbol='x')], [Polynomial([1.], domain=[-1.,  1.], window=[-1.,  1.], symbol='x'), Polynomial([-19.,  16.], domain=[-1.,  1.], window=[-1.,  1.], symbol='x'), Polynomial([ 541., -912.,  384.], domain=[-1.,  1.], window=[-1.,  1.], symbol='x'), Polynomial([-17119.,  43296., -36480.,  10240.], domain=[-1.,  1.], window=[-1.,  1.], symbol='x'), Polynomial([  568801., -1918240.,  2424960., -1361920.,   286720.], domain=[-1.,  1.], window=[-1.,  1.], symbol='x')], [Polynomial([1.], domain=[-1.,  1.], window=[-1.,  1.], symbol='x'), Polynomial([-21.,  16.], domain=[-1.,  1.], window=[-1.,  1.], symbol='x'), Polynomial([  661., -1008.,   384.], domain=[-1.,  1.], window=[-1.,  1.], symbol='x'), Polynomial([-23121.,  52896., -40320.,  10240.], domain=[-1.,  1.], window=[-1.,  1.], symbol='x'), Polynomial([  849201., -2590560.,  2962560., -1505280.,   286720.], domain=[-1.,  1.], window=[-1.,  1.], symbol='x')], [Polynomial([1.], domain=[-1.,  1.], window=[-1.,  1.], symbol='x'), Polynomial([-23.,  16.], domain=[-1.,  1.], window=[-1.,  1.], symbol='x'), Polynomial([  793., -1104.,   384.], domain=[-1.,  1.], window=[-1.,  1.], symbol='x'), Polynomial([-30383.,  63456., -44160.,  10240.], domain=[-1.,  1.], window=[-1.,  1.], symbol='x'), Polynomial([ 1222321., -3404000.,  3553920., -1648640.,   286720.], domain=[-1.,  1.], window=[-1.,  1.], symbol='x')], [Polynomial([1.], domain=[-1.,  1.], window=[-1.,  1.], symbol='x'), Polynomial([-25.,  16.], domain=[-1.,  1.], window=[-1.,  1.], symbol='x'), Polynomial([  937., -1200.,   384.], domain=[-1.,  1.], window=[-1.,  1.], symbol='x'), Polynomial([-39025.,  74976., -48000.,  10240.], domain=[-1.,  1.], window=[-1.,  1.], symbol='x'), Polynomial([ 1706641., -4372000.,  4199040., -1792000.,   286720.], domain=[-1.,  1.], window=[-1.,  1.], symbol='x')], [Polynomial([1.], domain=[-1.,  1.], window=[-1.,  1.], symbol='x'), Polynomial([-27.,  16.], domain=[-1.,  1.], window=[-1.,  1.], symbol='x'), Polynomial([ 1093., -1296.,   384.], domain=[-1.,  1.], window=[-1.,  1.], symbol='x'), Polynomial([-49167.,  87456., -51840.,  10240.], domain=[-1.,  1.], window=[-1.,  1.], symbol='x'), Polynomial([ 2322321., -5508000.,  4897920., -1935360.,   286720.], domain=[-1.,  1.], window=[-1.,  1.], symbol='x')], [Polynomial([1.], domain=[-1.,  1.], window=[-1.,  1.], symbol='x'), Polynomial([-29.,  16.], domain=[-1.,  1.], window=[-1.,  1.], symbol='x'), Polynomial([ 1261., -1392.,   384.], domain=[-1.,  1.], window=[-1.,  1.], symbol='x'), Polynomial([-60929., 100896., -55680.,  10240.], domain=[-1.,  1.], window=[-1.,  1.], symbol='x'), Polynomial([ 3091201., -6825440.,  5650560., -2078720.,   286720.], domain=[-1.,  1.], window=[-1.,  1.], symbol='x')], [Polynomial([1.], domain=[-1.,  1.], window=[-1.,  1.], symbol='x'), Polynomial([-31.,  16.], domain=[-1.,  1.], window=[-1.,  1.], symbol='x'), Polynomial([ 1441., -1488.,   384.], domain=[-1.,  1.], window=[-1.,  1.], symbol='x'), Polynomial([-74431., 115296., -59520.,  10240.], domain=[-1.,  1.], window=[-1.,  1.], symbol='x'), Polynomial([ 4036801., -8337760.,  6456960., -2222080.,   286720.], domain=[-1.,  1.], window=[-1.,  1.], symbol='x')]]\n"
          ]
        }
      ],
      "source": [
        "phi = []\n",
        "for n in range(N):\n",
        "  phi.append([])\n",
        "  s = poly.Polynomial([-t[n+1]-t[n], 2])/h\n",
        "\n",
        "  for j in range(k):\n",
        "    phi[n].append(P[j](s))\n",
        "\n",
        "print(phi)"
      ]
    },
    {
      "cell_type": "code",
      "source": [
        "print(fixed_quad(phi[0][2]*phi[0][2], t[0], t[1], n=3))\n",
        "print(fixed_quad(P[0]*P[2], -1, 1))"
      ],
      "metadata": {
        "colab": {
          "base_uri": "https://localhost:8080/"
        },
        "id": "b3mAStuxNLFo",
        "outputId": "4c9a19bf-b066-4040-9a10-1ff3b256c8bf"
      },
      "execution_count": 29,
      "outputs": [
        {
          "output_type": "stream",
          "name": "stdout",
          "text": [
            "(0.02500000000000001, None)\n",
            "(-3.885780586188048e-16, None)\n"
          ]
        }
      ]
    },
    {
      "cell_type": "markdown",
      "source": [
        "# Find $f_h$"
      ],
      "metadata": {
        "id": "wAWRz45HWNN5"
      }
    },
    {
      "cell_type": "markdown",
      "source": [
        "## $$c^n_j$$"
      ],
      "metadata": {
        "id": "2JqAa1-9WiJC"
      }
    },
    {
      "cell_type": "code",
      "source": [
        "c = []\n",
        "for n in range(N):\n",
        "  c.append([])\n",
        "  for j in range(k):\n",
        "    func_to_integrate = lambda x: f(x)*phi[n][j](x)\n",
        "    c[n].append(fixed_quad(func_to_integrate, t[n], t[n+1], n=5)[0] * (2*j+1)/h)\n",
        "print(c)"
      ],
      "metadata": {
        "colab": {
          "base_uri": "https://localhost:8080/"
        },
        "id": "139Eq7JUSP81",
        "outputId": "d57aab7b-7092-4cee-ed62-27167e605155"
      },
      "execution_count": 30,
      "outputs": [
        {
          "output_type": "stream",
          "name": "stdout",
          "text": [
            "[[1.0651876245346104, 0.06655689594252563, 0.0013864472709768788, 1.732951640781577e-05, 1.547166283213941e-07], [1.2070157089673212, 0.07541884367820276, 0.0015710505803673974, 1.963691477119278e-05, 1.7531722155267326e-07], [1.3677279834436789, 0.08546074604604367, 0.0017802335348240939, 2.2251539453149727e-05, 1.9865664382251458e-07], [1.5498388486554144, 0.09683971218001133, 0.0020172688760844437, 2.5214297578943223e-05, 2.2508869455817315e-07], [1.756197493856754, 0.10973377005221643, 0.0022858651063974167, 2.8571542974517583e-05, 2.550637567405589e-07], [1.990032473443618, 0.12434465178385976, 0.0025902245092160325, 3.2375799630071644e-05, 2.891983965427891e-07], [2.2550022188353855, 0.14090094981601398, 0.0029351088957142724, 3.668659013109088e-05, 3.2748548985106485e-07], [2.5552522759355782, 0.15966169331966262, 0.0033259141047158047, 4.1571352209168744e-05, 3.714207842536732e-07], [2.895480163671888, 0.18092040079920718, 0.0037687544227918424, 4.710650954112272e-05, 4.217998166994308e-07], [3.2810088683504803, 0.20500967229385175, 0.004270558243846256, 5.337868872418161e-05, 4.7449019188738895e-07], [3.717870123669886, 0.23230639302351547, 0.004839176467745787, 6.048599011032607e-05, 5.4090833724596e-07], [4.212898779339902, 0.2632376298921308, 0.00548350532824371, 6.853951451452067e-05, 6.138530094235151e-07], [4.77383973473613, 0.2982873131012449, 0.006213625580082649, 7.766547439641558e-05, 6.910460606246449e-07], [5.409469110605195, 0.3380038074101356, 0.0070409602158647, 8.800652104073992e-05, 7.804912244002704e-07], [6.1297315545950575, 0.3830084914974936, 0.007978453176711309, 9.972452620693462e-05, 8.805595922423137e-07], [6.945895828804301, 0.4340054796518438, 0.009040771875056808, 0.00011300272553504964, 1.0182493171140283e-06]]\n"
          ]
        }
      ]
    },
    {
      "cell_type": "markdown",
      "source": [
        "## compute $f_h$"
      ],
      "metadata": {
        "id": "qiOqHhZDeMl4"
      }
    },
    {
      "cell_type": "code",
      "source": [
        "funclist = [0]\n",
        "for n in range(N):\n",
        "  funclist.append(0)\n",
        "  for j in range(k):\n",
        "    funclist[n+1] += phi[n][j]*c[n][j]\n",
        "funclist.append(0)\n",
        "print(funclist)"
      ],
      "metadata": {
        "colab": {
          "base_uri": "https://localhost:8080/"
        },
        "id": "Zc8SxQZQYSAA",
        "outputId": "30ecd2e2-c440-4c53-becc-b59ca833baf9"
      },
      "execution_count": 31,
      "outputs": [
        {
          "output_type": "stream",
          "name": "stdout",
          "text": [
            "[0, Polynomial([1.        , 0.99999974, 0.50001425, 0.16636416, 0.04436035], domain=[-1.,  1.], window=[-1.,  1.], symbol='x'), Polynomial([1.00000199, 0.99994451, 0.50060967, 0.16338179, 0.05026695], domain=[-1.,  1.], window=[-1.,  1.], symbol='x'), Polynomial([1.00003083, 0.99950268, 0.5031785 , 0.15665722, 0.05695883], domain=[-1.,  1.], window=[-1.,  1.], symbol='x'), Polynomial([1.00018812, 0.99785954, 0.50965221, 0.1452539 , 0.06453743], domain=[-1.,  1.], window=[-1.,  1.], symbol='x'), Polynomial([1.00074139, 0.99348813, 0.52264738, 0.12802587, 0.07313188], domain=[-1.,  1.], window=[-1.,  1.], symbol='x'), Polynomial([1.00226897, 0.98379876, 0.54574469, 0.10350104, 0.08291896], domain=[-1.,  1.], window=[-1.,  1.], symbol='x'), Polynomial([1.00580004, 0.96508572, 0.58298886, 0.0705066 , 0.09389664], domain=[-1.,  1.], window=[-1.,  1.], symbol='x'), Polynomial([1.01328765, 0.93103365, 0.64112773, 0.02633902, 0.10649377], domain=[-1.,  1.], window=[-1.,  1.], symbol='x'), Polynomial([ 1.02799006,  0.87256177,  0.72840929, -0.03161773,  0.12093844], domain=[-1.,  1.], window=[-1.,  1.], symbol='x'), Polynomial([ 1.05229783,  0.78630328,  0.84325954, -0.09961991,  0.13604583], domain=[-1.,  1.], window=[-1.,  1.], symbol='x'), Polynomial([ 1.09897484,  0.63722384,  1.02192205, -0.19484196,  0.15508924], domain=[-1.,  1.], window=[-1.,  1.], symbol='x'), Polynomial([ 1.17474237,  0.41769998,  1.26054557, -0.310178  ,  0.17600393], domain=[-1.,  1.], window=[-1.,  1.], symbol='x'), Polynomial([ 1.28729648,  0.11803954,  1.5598195 , -0.44306008,  0.19813673], domain=[-1.,  1.], window=[-1.,  1.], symbol='x'), Polynomial([ 1.46467037, -0.31927088,  1.96425425, -0.60934472,  0.22378244], domain=[-1.,  1.], window=[-1.,  1.], symbol='x'), Polynomial([ 1.72918579, -0.92627183,  2.48671921, -0.80925769,  0.25247405], domain=[-1.,  1.], window=[-1.,  1.], symbol='x'), Polynomial([ 2.21904223, -1.96973706,  3.32052929, -1.10548353,  0.29195244], domain=[-1.,  1.], window=[-1.,  1.], symbol='x'), 0]\n"
          ]
        }
      ]
    },
    {
      "cell_type": "code",
      "source": [
        "def fh(x):\n",
        "  condlist = [x < t[0]]\n",
        "  for n in range(N):\n",
        "    if n == N-1:\n",
        "      condlist.append((x>=t[n]) & (x<=t[n+1]))\n",
        "    else:\n",
        "      condlist.append((x>=t[n]) & (x<t[n+1]))\n",
        "  condlist.append(x > t[N])\n",
        "  return np.piecewise(x, condlist, funclist)"
      ],
      "metadata": {
        "id": "LUMPRs4tamBY"
      },
      "execution_count": 32,
      "outputs": []
    },
    {
      "cell_type": "code",
      "source": [
        "fh(np.linspace(0, 2, 100))-f(np.linspace(0, 2, 100))"
      ],
      "metadata": {
        "colab": {
          "base_uri": "https://localhost:8080/"
        },
        "id": "oB8GjvG1ftPW",
        "outputId": "9741ef70-1ea5-45da-bcff-3ca3871c98cc"
      },
      "execution_count": 33,
      "outputs": [
        {
          "output_type": "execute_result",
          "data": {
            "text/plain": [
              "array([ 1.06328213e-09, -3.47017970e-10,  3.42250006e-10,  6.07616180e-11,\n",
              "       -3.73185038e-10,  2.07806883e-10, -2.91526137e-10, -4.94041474e-10,\n",
              "        3.04165804e-10,  1.99497086e-10, -4.04171141e-10,  5.11883869e-11,\n",
              "        2.00567785e-10, -5.48991297e-10,  1.98233874e-10,  3.49223095e-10,\n",
              "       -3.86259247e-10, -1.39056100e-10,  5.16794385e-10, -3.93224564e-10,\n",
              "        1.94346761e-11,  4.90492091e-10, -3.14932969e-10, -3.40112383e-10,\n",
              "        6.67593092e-10,  1.60190083e-10, -2.42407650e-10,  6.08419093e-10,\n",
              "       -1.73521419e-10, -5.34938982e-10,  6.51700027e-10,  1.54647495e-09,\n",
              "       -6.31411146e-10,  6.68857414e-10,  9.40625355e-11, -6.81941170e-10,\n",
              "        4.20716795e-10, -8.68257466e-10, -8.57586446e-10,  6.37278674e-10,\n",
              "        2.76999756e-10, -7.85731036e-10,  2.28896901e-10,  1.01008979e-10,\n",
              "       -1.14693632e-09,  4.13242773e-10,  6.69822420e-10, -7.09031944e-10,\n",
              "       -2.30792718e-10,  8.11792855e-10, -1.05640741e-09, -2.24924968e-10,\n",
              "        1.17474119e-09, -2.77671219e-10, -8.01327449e-10,  8.66603234e-10,\n",
              "       -5.83892490e-10,  5.06432674e-10,  8.13269896e-10, -1.16869847e-09,\n",
              "       -7.23616278e-10,  2.11399342e-09,  2.30186004e-09, -1.26398936e-09,\n",
              "        1.33684042e-09,  2.63674416e-10, -1.25723609e-09,  6.81891432e-10,\n",
              "       -1.96777350e-09, -2.33365949e-09,  1.13053300e-09,  1.10166987e-09,\n",
              "       -1.22129240e-09, -1.55446322e-10,  1.99301908e-10, -1.21429267e-09,\n",
              "        1.45188572e-09,  1.67784897e-10, -2.02808081e-09,  7.74578623e-10,\n",
              "        1.25258559e-09, -1.08995390e-09,  2.00581773e-09,  1.10741638e-10,\n",
              "       -2.90606916e-09,  5.17893284e-10,  3.45790241e-09, -1.87844051e-09,\n",
              "        3.33391625e-09,  2.45207410e-10, -4.38594139e-09, -2.15104379e-10,\n",
              "        6.16447959e-09,  6.23931662e-09, -5.22700550e-09,  3.25024896e-09,\n",
              "        3.08072678e-09, -2.52129961e-09, -1.70512049e-09,  2.37540121e-09])"
            ]
          },
          "metadata": {},
          "execution_count": 33
        }
      ]
    },
    {
      "cell_type": "markdown",
      "source": [
        "# L2 error"
      ],
      "metadata": {
        "id": "sO8DOUGbqFQh"
      }
    },
    {
      "cell_type": "code",
      "source": [
        "L2 = fixed_quad(lambda x: (f(x)-fh(x))**2, interval[0], interval[1], n=5)[0]\n",
        "L2 = np.sqrt(L2)\n",
        "print(L2)"
      ],
      "metadata": {
        "colab": {
          "base_uri": "https://localhost:8080/"
        },
        "id": "dvnlDb2pqXXB",
        "outputId": "a4d83b8d-91ef-46b3-b0cf-08611afb6e57"
      },
      "execution_count": 34,
      "outputs": [
        {
          "output_type": "stream",
          "name": "stdout",
          "text": [
            "3.4637873801114456e-09\n"
          ]
        }
      ]
    },
    {
      "cell_type": "markdown",
      "source": [
        "# Plot"
      ],
      "metadata": {
        "id": "RIs0J9Mupw5g"
      }
    },
    {
      "cell_type": "code",
      "source": [
        "import matplotlib.pyplot as plt"
      ],
      "metadata": {
        "id": "S_cdHpEOk4zw"
      },
      "execution_count": 35,
      "outputs": []
    },
    {
      "cell_type": "code",
      "source": [
        "plt.plot(np.linspace(0, 2, 100), f(np.linspace(0, 2, 100)), label='f')\n",
        "plt.plot(np.linspace(0, 2, 100), fh(np.linspace(0, 2, 100)), label='fh')\n",
        "plt.legend()\n",
        "plt.show()"
      ],
      "metadata": {
        "colab": {
          "base_uri": "https://localhost:8080/",
          "height": 430
        },
        "id": "3TjmCAJCp1qF",
        "outputId": "fbb89bfa-ab6f-46d7-a3ed-5a3bb369d461"
      },
      "execution_count": 36,
      "outputs": [
        {
          "output_type": "display_data",
          "data": {
            "text/plain": [
              "<Figure size 640x480 with 1 Axes>"
            ],
            "image/png": "[encoded data removed]"
          },
          "metadata": {}
        }
      ]
    },
    {
      "cell_type": "code",
      "source": [
        "import torch"
      ],
      "metadata": {
        "id": "XGd1Kn9TCjqj"
      },
      "execution_count": null,
      "outputs": []
    },
    {
      "cell_type": "code",
      "source": [
        "f = np.polynomial.polynomial.Polynomial([1, 1, 1, 1, 1])\n",
        "print(f*np.array([2.0]))"
      ],
      "metadata": {
        "id": "ju9yVWZhp_-e",
        "colab": {
          "base_uri": "https://localhost:8080/"
        },
        "outputId": "fbdc9eb3-c1c7-4b06-8abe-3794512a3215"
      },
      "execution_count": null,
      "outputs": [
        {
          "output_type": "stream",
          "name": "stdout",
          "text": [
            "2.0 + 2.0·x + 2.0·x² + 2.0·x³ + 2.0·x⁴\n"
          ]
        }
      ]
    },
    {
      "cell_type": "code",
      "source": [
        "print(np.array([2.0])*f)"
      ],
      "metadata": {
        "colab": {
          "base_uri": "https://localhost:8080/"
        },
        "id": "PUlnxzDVBTxX",
        "outputId": "45d4aabc-4ded-4ca0-ed9c-8167b8e892f3"
      },
      "execution_count": null,
      "outputs": [
        {
          "output_type": "stream",
          "name": "stdout",
          "text": [
            "2.0 + 2.0·x + 2.0·x² + 2.0·x³ + 2.0·x⁴\n"
          ]
        }
      ]
    },
    {
      "cell_type": "code",
      "source": [
        "type(f)"
      ],
      "metadata": {
        "colab": {
          "base_uri": "https://localhost:8080/",
          "height": 187
        },
        "id": "hB0InbQIBYTW",
        "outputId": "f25440fc-f10e-47a5-bd6b-a287a7504985"
      },
      "execution_count": null,
      "outputs": [
        {
          "output_type": "execute_result",
          "data": {
            "text/plain": [
              "numpy.poly1d"
            ],
            "text/html": [
              "<div style=\"max-width:800px; border: 1px solid var(--colab-border-color);\"><style>\n",
              "      pre.function-repr-contents {\n",
              "        overflow-x: auto;\n",
              "        padding: 8px 12px;\n",
              "        max-height: 500px;\n",
              "      }\n",
              "\n",
              "      pre.function-repr-contents.function-repr-contents-collapsed {\n",
              "        cursor: pointer;\n",
              "        max-height: 100px;\n",
              "      }\n",
              "    </style>\n",
              "    <pre style=\"white-space: initial; background:\n",
              "         var(--colab-secondary-surface-color); padding: 8px 12px;\n",
              "         border-bottom: 1px solid var(--colab-border-color);\"><b>numpy.poly1d</b><br/>def __call__(val)</pre><pre class=\"function-repr-contents function-repr-contents-collapsed\" style=\"\"><a class=\"filepath\" style=\"display:none\" href=\"#\">/usr/local/lib/python3.11/dist-packages/numpy/__init__.py</a>A one-dimensional polynomial class.\n",
              "\n",
              ".. note::\n",
              "   This forms part of the old polynomial API. Since version 1.4, the\n",
              "   new polynomial API defined in `numpy.polynomial` is preferred.\n",
              "   A summary of the differences can be found in the\n",
              "   :doc:`transition guide &lt;/reference/routines.polynomials&gt;`.\n",
              "\n",
              "A convenience class, used to encapsulate &quot;natural&quot; operations on\n",
              "polynomials so that said operations may take on their customary\n",
              "form in code (see Examples).\n",
              "\n",
              "Parameters\n",
              "----------\n",
              "c_or_r : array_like\n",
              "    The polynomial&#x27;s coefficients, in decreasing powers, or if\n",
              "    the value of the second parameter is True, the polynomial&#x27;s\n",
              "    roots (values where the polynomial evaluates to 0).  For example,\n",
              "    ``poly1d([1, 2, 3])`` returns an object that represents\n",
              "    :math:`x^2 + 2x + 3`, whereas ``poly1d([1, 2, 3], True)`` returns\n",
              "    one that represents :math:`(x-1)(x-2)(x-3) = x^3 - 6x^2 + 11x -6`.\n",
              "r : bool, optional\n",
              "    If True, `c_or_r` specifies the polynomial&#x27;s roots; the default\n",
              "    is False.\n",
              "variable : str, optional\n",
              "    Changes the variable used when printing `p` from `x` to `variable`\n",
              "    (see Examples).\n",
              "\n",
              "Examples\n",
              "--------\n",
              "Construct the polynomial :math:`x^2 + 2x + 3`:\n",
              "\n",
              "&gt;&gt;&gt; p = np.poly1d([1, 2, 3])\n",
              "&gt;&gt;&gt; print(np.poly1d(p))\n",
              "   2\n",
              "1 x + 2 x + 3\n",
              "\n",
              "Evaluate the polynomial at :math:`x = 0.5`:\n",
              "\n",
              "&gt;&gt;&gt; p(0.5)\n",
              "4.25\n",
              "\n",
              "Find the roots:\n",
              "\n",
              "&gt;&gt;&gt; p.r\n",
              "array([-1.+1.41421356j, -1.-1.41421356j])\n",
              "&gt;&gt;&gt; p(p.r)\n",
              "array([ -4.44089210e-16+0.j,  -4.44089210e-16+0.j]) # may vary\n",
              "\n",
              "These numbers in the previous line represent (0, 0) to machine precision\n",
              "\n",
              "Show the coefficients:\n",
              "\n",
              "&gt;&gt;&gt; p.c\n",
              "array([1, 2, 3])\n",
              "\n",
              "Display the order (the leading zero-coefficients are removed):\n",
              "\n",
              "&gt;&gt;&gt; p.order\n",
              "2\n",
              "\n",
              "Show the coefficient of the k-th power in the polynomial\n",
              "(which is equivalent to ``p.c[-(i+1)]``):\n",
              "\n",
              "&gt;&gt;&gt; p[1]\n",
              "2\n",
              "\n",
              "Polynomials can be added, subtracted, multiplied, and divided\n",
              "(returns quotient and remainder):\n",
              "\n",
              "&gt;&gt;&gt; p * p\n",
              "poly1d([ 1,  4, 10, 12,  9])\n",
              "\n",
              "&gt;&gt;&gt; (p**3 + 4) / p\n",
              "(poly1d([ 1.,  4., 10., 12.,  9.]), poly1d([4.]))\n",
              "\n",
              "``asarray(p)`` gives the coefficient array, so polynomials can be\n",
              "used in all functions that accept arrays:\n",
              "\n",
              "&gt;&gt;&gt; p**2 # square of polynomial\n",
              "poly1d([ 1,  4, 10, 12,  9])\n",
              "\n",
              "&gt;&gt;&gt; np.square(p) # square of individual coefficients\n",
              "array([1, 4, 9])\n",
              "\n",
              "The variable used in the string representation of `p` can be modified,\n",
              "using the `variable` parameter:\n",
              "\n",
              "&gt;&gt;&gt; p = np.poly1d([1,2,3], variable=&#x27;z&#x27;)\n",
              "&gt;&gt;&gt; print(p)\n",
              "   2\n",
              "1 z + 2 z + 3\n",
              "\n",
              "Construct a polynomial from its roots:\n",
              "\n",
              "&gt;&gt;&gt; np.poly1d([1, 2], True)\n",
              "poly1d([ 1., -3.,  2.])\n",
              "\n",
              "This is the same polynomial as obtained by:\n",
              "\n",
              "&gt;&gt;&gt; np.poly1d([1, -1]) * np.poly1d([1, -2])\n",
              "poly1d([ 1, -3,  2])</pre>\n",
              "      <script>\n",
              "      if (google.colab.kernel.accessAllowed && google.colab.files && google.colab.files.view) {\n",
              "        for (const element of document.querySelectorAll('.filepath')) {\n",
              "          element.style.display = 'block'\n",
              "          element.onclick = (event) => {\n",
              "            event.preventDefault();\n",
              "            event.stopPropagation();\n",
              "            google.colab.files.view(element.textContent, None);\n",
              "          };\n",
              "        }\n",
              "      }\n",
              "      for (const element of document.querySelectorAll('.function-repr-contents')) {\n",
              "        element.onclick = (event) => {\n",
              "          event.preventDefault();\n",
              "          event.stopPropagation();\n",
              "          element.classList.toggle('function-repr-contents-collapsed');\n",
              "        };\n",
              "      }\n",
              "      </script>\n",
              "      </div>"
            ]
          },
          "metadata": {},
          "execution_count": 10
        }
      ]
    },
    {
      "cell_type": "code",
      "source": [
        "g = np.poly1d([1,1])\n",
        "f(g)"
      ],
      "metadata": {
        "colab": {
          "base_uri": "https://localhost:8080/"
        },
        "id": "FohvF8M5BvLc",
        "outputId": "d1ec7a93-a1a1-4f37-b43b-af7bdbe132c6"
      },
      "execution_count": null,
      "outputs": [
        {
          "output_type": "execute_result",
          "data": {
            "text/plain": [
              "poly1d([ 1,  5, 10, 10,  5])"
            ]
          },
          "metadata": {},
          "execution_count": 12
        }
      ]
    },
    {
      "cell_type": "code",
      "source": [
        "print(f.__rmul__())"
      ],
      "metadata": {
        "colab": {
          "base_uri": "https://localhost:8080/",
          "height": 144
        },
        "id": "fRPg2-lpBzhv",
        "outputId": "15e6910a-a700-4ffb-976c-34293ffa55af"
      },
      "execution_count": null,
      "outputs": [
        {
          "output_type": "error",
          "ename": "TypeError",
          "evalue": "poly1d.__rmul__() missing 1 required positional argument: 'other'",
          "traceback": [
            "\u001b[0;31m---------------------------------------------------------------------------\u001b[0m",
            "\u001b[0;31mTypeError\u001b[0m                                 Traceback (most recent call last)",
            "\u001b[0;32m<ipython-input-23-960f201a943f>\u001b[0m in \u001b[0;36m<cell line: 0>\u001b[0;34m()\u001b[0m\n\u001b[0;32m----> 1\u001b[0;31m \u001b[0mprint\u001b[0m\u001b[0;34m(\u001b[0m\u001b[0mf\u001b[0m\u001b[0;34m.\u001b[0m\u001b[0m__rmul__\u001b[0m\u001b[0;34m(\u001b[0m\u001b[0;34m)\u001b[0m\u001b[0;34m)\u001b[0m\u001b[0;34m\u001b[0m\u001b[0;34m\u001b[0m\u001b[0m\n\u001b[0m",
            "\u001b[0;31mTypeError\u001b[0m: poly1d.__rmul__() missing 1 required positional argument: 'other'"
          ]
        }
      ]
    },
    {
      "cell_type": "code",
      "source": [],
      "metadata": {
        "id": "WVw4Ts1mDK3c"
      },
      "execution_count": null,
      "outputs": []
    }
  ]
}